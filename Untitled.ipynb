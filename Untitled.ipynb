{
 "cells": [
  {
   "cell_type": "code",
   "execution_count": 12,
   "id": "diverse-houston",
   "metadata": {},
   "outputs": [],
   "source": [
    "f = open(\"Taxable_Sales_And_Purchases_Quarterly_Data__Beginning_Sales_Tax_Year_2013-2014.csv\",\"r\")\n",
    "s = f.read()\n",
    "f.close()\n",
    "lines = s.split(\"\\n\")"
   ]
  },
  {
   "cell_type": "code",
   "execution_count": 45,
   "id": "senior-matter",
   "metadata": {},
   "outputs": [
    {
     "name": "stdout",
     "output_type": "stream",
     "text": [
      "Status |\n",
      "Sales Tax Year |\n",
      "Selling Period |\n",
      "Sales Tax Quarter |\n",
      "Jurisdiction |\n",
      "NAICS Industry Group |\n",
      "Description |\n",
      "Taxable Sales and Purchases |\n",
      "Jurisdiction Sort Order |\n",
      "Row Update Indicator\n"
     ]
    }
   ],
   "source": [
    "import csv, operator\n",
    "\n",
    "fn = \"Taxable_Sales_And_Purchases_Quarterly_Data__Beginning_Sales_Tax_Year_2013-2014.csv\"\n",
    "f = open(fn, 'r')\n",
    "## uses csv Dictreader\n",
    "reader = csv.DictReader(f, skipinitialspace = True)\n",
    "n = 0\n",
    "for row in reader:\n",
    "    ## stops after header row\n",
    "    if n > 0 :\n",
    "        break\n",
    "    ## prints column headings on new row, with | at end, for copying to markdown file\n",
    "    print(*row, sep = ' |\\n')\n",
    "    n += 1\n"
   ]
  },
  {
   "cell_type": "code",
   "execution_count": 15,
   "id": "preceding-comedy",
   "metadata": {},
   "outputs": [
    {
     "name": "stdout",
     "output_type": "stream",
     "text": [
      "567358\n"
     ]
    }
   ],
   "source": [
    "n = 0\n",
    "for line in f :\n",
    "    n += 1\n",
    "print(n)"
   ]
  },
  {
   "cell_type": "code",
   "execution_count": 24,
   "id": "authorized-image",
   "metadata": {},
   "outputs": [
    {
     "name": "stdout",
     "output_type": "stream",
     "text": [
      "0\n",
      "100000\n",
      "200000\n",
      "300000\n",
      "400000\n",
      "500000\n",
      "567358\n",
      "[('MCTD', 9456), ('ALBANY', 9456), ('ALLEGANY', 9456), ('BROOME', 9456), ('CATTARAUGUS', 9456), ('CAYUGA', 9456), ('CHAUTAUQUA', 9456), ('CHEMUNG', 9456), ('CHENANGO', 9456), ('CLINTON', 9456), ('COLUMBIA', 9456), ('CORTLAND', 9456), ('DELAWARE', 9456), ('DUTCHESS', 9456), ('ERIE', 9456), ('ESSEX', 9456), ('FRANKLIN', 9456), ('FULTON', 9456), ('GENESEE', 9456), ('GREENE', 9456), ('HAMILTON', 9456), ('HERKIMER', 9456), ('JEFFERSON', 9456), ('LEWIS', 9456), ('LIVINGSTON', 9456), ('MADISON', 9456), ('MONROE', 9456), ('MONTGOMERY', 9456), ('NASSAU', 9456), ('NIAGARA', 9456), ('NY CITY', 9456), ('ONEIDA', 9456), ('ONONDAGA', 9456), ('ONTARIO', 9456), ('ORANGE', 9456), ('ORLEANS', 9456), ('OSWEGO', 9456), ('OTSEGO', 9456), ('PUTNAM', 9456), ('RENSSELAER', 9456), ('ROCKLAND', 9456), ('SARATOGA', 9456), ('SCHENECTADY', 9456), ('SCHOHARIE', 9456), ('SCHUYLER', 9456), ('SENECA', 9456), ('ST LAWRENCE', 9456), ('STEUBEN', 9456), ('SUFFOLK', 9456), ('SULLIVAN', 9456), ('TIOGA', 9456), ('TOMPKINS', 9456), ('ULSTER', 9456), ('WARREN', 9456), ('WASHINGTON', 9456), ('WAYNE', 9456), ('WESTCHESTER', 9456), ('WYOMING', 9456), ('YATES', 9456), ('NY STATE', 9454)]\n"
     ]
    }
   ],
   "source": [
    "Juris = {}\n",
    "reader = csv.reader(f)\n",
    "n = 0\n",
    "\n",
    "for row in reader:\n",
    "    k = row[4]\n",
    "    if k in Juris.keys() :\n",
    "        Juris[k] += 1\n",
    "    else:\n",
    "        Juris[k] = 1\n",
    "    if n % 100000 == 0 :\n",
    "        print(n)\n",
    "    n +=1\n",
    "    \n",
    "sorted_hist = sorted(Juris.items(), key = operator.itemgetter(1), reverse = True)\n",
    "\n",
    "print(n)\n",
    "print(sorted_hist)\n",
    "        "
   ]
  },
  {
   "cell_type": "code",
   "execution_count": 44,
   "id": "copyrighted-queen",
   "metadata": {},
   "outputs": [
    {
     "name": "stdout",
     "output_type": "stream",
     "text": [
      "0\n",
      "1000\n",
      "2000\n",
      "3000\n",
      "4000\n",
      "5000\n",
      "6000\n",
      "7000\n",
      "8000\n",
      "9000\n",
      "9456\n",
      "[('2019 - 2020', 1248), ('2018 - 2019', 1248), ('2017 - 2018', 1248), ('2016 - 2017', 1248), ('2015 - 2016', 1176), ('2014 - 2015', 1176), ('2013 - 2014', 1176), ('2020 - 2021', 936)]\n",
      "9456\n"
     ]
    }
   ],
   "source": [
    "JurisCount = 0\n",
    "reader = csv.reader(f)\n",
    "YearHist = {}\n",
    "n = 0\n",
    "\n",
    "for row in reader:\n",
    "    j = row[4]\n",
    "    y = row[1]\n",
    "    if j == 'MONTGOMERY' :\n",
    "        JurisCount += 1\n",
    "        if y in YearHist.keys() :\n",
    "            YearHist[y] += 1\n",
    "        else:\n",
    "            YearHist[y] = 1\n",
    "        if n % 1000 == 0 :\n",
    "            print(n)\n",
    "        n +=1\n",
    "    \n",
    "sorted_hist = sorted(YearHist.items(), key = operator.itemgetter(1), reverse = True)\n",
    "\n",
    "print(n)\n",
    "print(sorted_hist)\n",
    "    \n",
    "print(JurisCount)"
   ]
  },
  {
   "cell_type": "code",
   "execution_count": 46,
   "id": "neural-franchise",
   "metadata": {},
   "outputs": [
    {
     "name": "stdout",
     "output_type": "stream",
     "text": [
      "0\n",
      "1000\n",
      "1248\n",
      "[('4', 312), ('3', 312), ('2', 312), ('1', 312)]\n"
     ]
    }
   ],
   "source": [
    "JurisCount = 0\n",
    "reader = csv.reader(f)\n",
    "QtrHist = {}\n",
    "n = 0\n",
    "\n",
    "for row in reader:\n",
    "    j = row[4]\n",
    "    y = row[1]\n",
    "    q = row[3]\n",
    "    if j == 'MONTGOMERY' and y == '2019 - 2020' :\n",
    "        if q in QtrHist.keys() :\n",
    "            QtrHist[q] += 1\n",
    "        else:\n",
    "            QtrHist[q] = 1\n",
    "        if n % 1000 == 0 :\n",
    "            print(n)\n",
    "        n +=1\n",
    "    \n",
    "sorted_hist = sorted(QtrHist.items(), key = operator.itemgetter(1), reverse = True)\n",
    "\n",
    "print(n)\n",
    "print(sorted_hist)"
   ]
  },
  {
   "cell_type": "code",
   "execution_count": null,
   "id": "acceptable-slovenia",
   "metadata": {},
   "outputs": [],
   "source": []
  }
 ],
 "metadata": {
  "kernelspec": {
   "display_name": "Python 3",
   "language": "python",
   "name": "python3"
  },
  "language_info": {
   "codemirror_mode": {
    "name": "ipython",
    "version": 3
   },
   "file_extension": ".py",
   "mimetype": "text/x-python",
   "name": "python",
   "nbconvert_exporter": "python",
   "pygments_lexer": "ipython3",
   "version": "3.8.7"
  }
 },
 "nbformat": 4,
 "nbformat_minor": 5
}
