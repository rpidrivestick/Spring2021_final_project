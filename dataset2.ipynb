{
 "cells": [
  {
   "cell_type": "code",
   "execution_count": 3,
   "id": "sharp-oracle",
   "metadata": {},
   "outputs": [],
   "source": [
    "f = open(\"State_and_Local_Sales_Tax_Distributions___Beginning__Fiscal_Years_Ended_March_31__1995.csv\",\"r\")\n",
    "s = f.read()\n",
    "f.close()\n",
    "lines = s.split(\"\\n\")"
   ]
  },
  {
   "cell_type": "code",
   "execution_count": 7,
   "id": "moving-survival",
   "metadata": {},
   "outputs": [
    {
     "name": "stdout",
     "output_type": "stream",
     "text": [
      "3260\n"
     ]
    }
   ],
   "source": [
    "import csv, operator\n",
    "\n",
    "fn = \"State_and_Local_Sales_Tax_Distributions___Beginning__Fiscal_Years_Ended_March_31__1995.csv\"\n",
    "f = open(fn, 'r')\n",
    "## counts rows in file\n",
    "n = 0\n",
    "for line in f :\n",
    "    n += 1\n",
    "print(n)"
   ]
  },
  {
   "cell_type": "code",
   "execution_count": 9,
   "id": "familiar-lender",
   "metadata": {},
   "outputs": [
    {
     "name": "stdout",
     "output_type": "stream",
     "text": [
      "Fiscal Year Ended\n",
      "Taxing Jurisdiction\n",
      "Amount Distributed\n",
      "Jurisdiction Sort Order\n"
     ]
    }
   ],
   "source": [
    "import csv, operator\n",
    "\n",
    "fn = \"State_and_Local_Sales_Tax_Distributions___Beginning__Fiscal_Years_Ended_March_31__1995.csv\"\n",
    "f = open(fn, 'r')\n",
    "## uses csv Dictreader\n",
    "reader = csv.DictReader(f, skipinitialspace = True)\n",
    "n = 0\n",
    "for row in reader:\n",
    "    ## stops after header row\n",
    "    if n > 0 :\n",
    "        break\n",
    "    ## prints column headings on new row, with | at end, for copying to markdown file\n",
    "    print(*row, sep = '\\n')\n",
    "    n += 1"
   ]
  },
  {
   "cell_type": "code",
   "execution_count": 10,
   "id": "strategic-correlation",
   "metadata": {},
   "outputs": [
    {
     "name": "stdout",
     "output_type": "stream",
     "text": [
      "0\n",
      "3260\n",
      "[('New York State Sales and Use Tax', 26), ('New York City Sales and Use Tax', 26), ('Metropolitan Commuter Transportation District Sales and Use Tax', 26), ('Albany County Sales and Use Tax', 26), ('Allegany County Sales and Use Tax', 26), ('Broome County Sales and Use Tax', 26), ('Cattaraugus County Sales and Use Tax', 26), ('Cayuga County Sales and Use Tax', 26), ('Chautauqua County Sales and Use Tax', 26), ('Chemung County Sales and Use Tax', 26), ('Chenango County Sales and Use Tax', 26), ('Clinton County Sales and Use Tax', 26), ('Columbia County Sales and Use Tax', 26), ('Cortland County Sales and Use Tax', 26), ('Delaware County Sales and Use Tax', 26), ('Dutchess County Sales and Use Tax', 26), ('Erie County Sales and Use Tax', 26), ('Essex County Sales and Use Tax', 26), ('Franklin County Sales and Use Tax', 26), ('Fulton County Sales and Use Tax', 26), ('Genesee County Sales and Use Tax', 26), ('Greene County Sales and Use Tax', 26), ('Hamilton County Sales and Use Tax', 26), ('Herkimer County Sales and Use Tax', 26), ('Jefferson County Sales and Use Tax', 26), ('Lewis County Sales and Use Tax', 26), ('Livingston County Sales and Use Tax', 26), ('Madison County Sales and Use Tax', 26), ('Monroe County Sales and Use Tax', 26), ('Montgomery County Sales and Use Tax', 26), ('Nassau County Sales and Use Tax', 26), ('Niagara County Sales and Use Tax', 26), ('Oneida County Sales and Use Tax', 26), ('Onondaga County Sales and Use Tax', 26), ('Ontario County Sales and Use Tax', 26), ('Orange County Sales and Use Tax', 26), ('Orleans County Sales and Use Tax', 26), ('Oswego County Sales and Use Tax', 26), ('Otsego County Sales and Use Tax', 26), ('Putnam County Sales and Use Tax', 26), ('Rensselaer County Sales and Use Tax', 26), ('Rockland County Sales and Use Tax', 26), ('St. Lawrence County Sales and Use Tax', 26), ('Saratoga County Sales and Use Tax', 26), ('Schenectady County Sales and Use Tax', 26), ('Schoharie County Sales and Use Tax', 26), ('Schuyler County Sales and Use Tax', 26), ('Seneca County Sales and Use Tax', 26), ('Steuben County Sales and Use Tax', 26), ('Suffolk County Sales and Use Tax', 26), ('Sullivan County Sales and Use Tax', 26), ('Tioga County Sales and Use Tax', 26), ('Tompkins County Sales and Use Tax', 26), ('Ulster County Sales and Use Tax', 26), ('Warren County Sales and Use Tax', 26), ('Washington County Sales and Use Tax', 26), ('Wayne County Sales and Use Tax', 26), ('Westchester County Sales and Use Tax', 26), ('Wyoming County Sales and Use Tax', 26), ('Yates County Sales and Use Tax', 26), ('City of Auburn Sales and Use Tax', 26), ('City of Canandaigua Sales and Use Tax', 26), ('City of Corning Sales and Use Tax', 26), ('City of Geneva Sales and Use Tax', 26), ('City of Glens Falls Sales and Use Tax', 26), ('City of Gloversville Sales and Use Tax', 26), ('City of Hornell Sales and Use Tax', 26), ('City of Ithaca Sales and Use Tax', 26), ('City of Johnstown Sales and Use Tax', 26), ('City of Mount Vernon Sales and Use Tax', 26), ('City of New Rochelle Sales and Use Tax', 26), ('City of Norwich Sales and Use Tax', 26), ('City of Olean Sales and Use Tax', 26), ('City of Oneida Sales and Use Tax', 26), ('City of Oswego Sales and Use Tax', 26), ('City of Rome Sales and Use Tax', 26), ('City of Salamanca Sales and Use Tax', 26), ('City of Saratoga Springs Sales and Use Tax', 26), ('City of Utica Sales and Use Tax', 26), ('City of White Plains Sales and Use Tax', 26), ('City of Yonkers Sales and Use Tax', 26), ('City of Yonkers Special Sales and Use Tax', 26), ('City of Newburgh Consumer Utilities', 26), ('City of Port Jervis Consumer Utilities', 26), ('Albany City School District Consumer Utilities', 26), ('Batavia City School District Consumer Utilities', 26), ('Cohoes City School District Consumer Utilities', 26), ('Glen Cove City School District Consumer Utilities', 26), ('Gloversville City School District Consumer Utilities', 26), ('Hornell City School District Consumer Utilities', 26), ('Hudson City School District Consumer Utilities', 26), ('Johnstown City School District Consumer Utilities', 26), ('Lackawanna City School District Consumer Utilities', 26), ('Long Beach City School District Consumer Utilities', 26), ('Middletown City School District Consumer Utilities', 26), ('Mt. Vernon City School District Consumer Utilities', 26), ('New Rochelle City School District Consumer Utilities', 26), ('Newburgh City School District Consumer Utilities', 26), ('Niagara Falls City School District Consumer Utilities', 26), ('Ogdensburg City School District Consumer Utilities', 26), ('Peekskill City School District Consumer Utilities', 26), ('Rensselaer City School District Consumer Utilities', 26), ('Schenectady City School District Consumer Utilities', 26), ('Troy City School District Consumer Utilities', 26), ('Utica City School District Consumer Utilities', 26), ('Watertown City School District Consumer Utilities', 26), ('Watervliet City School District Consumer Utilities', 26), ('White Plains City School District Consumer Utilities', 26), ('City of Lockport Admissions, Club Dues, Food, Drink, Amusements and Utilities Services', 26), ('City of Long Beach Hotel Occupancy and Restaurant Meals', 26), ('City of Niagara Falls Admissions, Club Dues, Food, Drink, Amusements, Hotel Occupancy, Utilities Services', 26), ('City of Batavia Sales and Use Tax', 25), ('City of Ogdensburg Sales and Use Tax', 25), ('City of Fulton Sales and Use Tax', 24), ('City of Sherrill Sales and Use Tax', 24), ('Metropolitan Transportation Authority Aid Trust Account Passenger Car Rental', 24), ('Municipal Assistance Corporation Sales and Use Tax', 23), ('City of Amsterdam Sales and Use Tax', 23), ('City of Cortland Sales and Use Tax', 23), ('City of Elmira Sales and Use Tax', 23), ('City of Glen Cove Sales and Use Tax', 23), ('City of Mechanicville Sales and Use Tax', 23), ('City of Plattsburgh Sales and Use Tax', 23), ('City of Schenectady Sales and Use Tax', 23), ('City of Troy Sales and Use Tax', 23), ('New York City Convention Center Development Corporation Hotel Occupancy', 19), ('Hudson Valley Greenway Hotel Occupancy', 7), ('City of North Tonawanda Food, Drink, and Utilities Services', 7), ('Rye City School District Consumer Utilities', 6), ('City of Oneonta Consumer Utilites', 4), ('Taxing Jurisdiction', 1), ('Pougkeepsie City School District Consumer Utilities', 1)]\n"
     ]
    }
   ],
   "source": [
    "import csv, operator\n",
    "\n",
    "fn = \"State_and_Local_Sales_Tax_Distributions___Beginning__Fiscal_Years_Ended_March_31__1995.csv\"\n",
    "f = open(fn, 'r')\n",
    "Juris = {}\n",
    "reader = csv.reader(f)\n",
    "n = 0\n",
    "\n",
    "for row in reader:\n",
    "    k = row[1]\n",
    "    if k in Juris.keys() :\n",
    "        Juris[k] += 1\n",
    "    else:\n",
    "        Juris[k] = 1\n",
    "    if n % 100000 == 0 :\n",
    "        print(n)\n",
    "    n +=1\n",
    "    \n",
    "sorted_hist = sorted(Juris.items(), key = operator.itemgetter(1), reverse = True)\n",
    "\n",
    "print(n)\n",
    "print(sorted_hist)\n",
    "        "
   ]
  },
  {
   "cell_type": "code",
   "execution_count": 16,
   "id": "opposed-january",
   "metadata": {},
   "outputs": [
    {
     "name": "stdout",
     "output_type": "stream",
     "text": [
      "0\n",
      "26\n",
      "[('2020', 1), ('2019', 1), ('2018', 1), ('2017', 1), ('2016', 1), ('2015', 1), ('2014', 1), ('2013', 1), ('2012', 1), ('2011', 1), ('2010', 1), ('2009', 1), ('2008', 1), ('2007', 1), ('2006', 1), ('2005', 1), ('2004', 1), ('2003', 1), ('2002', 1), ('2001', 1), ('2000', 1), ('1999', 1), ('1998', 1), ('1997', 1), ('1996', 1), ('1995', 1)]\n",
      "26\n"
     ]
    }
   ],
   "source": [
    "import csv, operator\n",
    "\n",
    "fn = \"State_and_Local_Sales_Tax_Distributions___Beginning__Fiscal_Years_Ended_March_31__1995.csv\"\n",
    "f = open(fn, 'r')\n",
    "\n",
    "JurisCount = 0\n",
    "reader = csv.reader(f)\n",
    "YearHist = {}\n",
    "n = 0\n",
    "\n",
    "for row in reader:\n",
    "    j = row[1]\n",
    "    y = row[0]\n",
    "    if j.startswith('Montgomery') :\n",
    "        ## count items in JurisCount\n",
    "        JurisCount += 1\n",
    "        ## Add year to YearHist and count\n",
    "        if y in YearHist.keys() :\n",
    "            YearHist[y] += 1\n",
    "        else:\n",
    "            YearHist[y] = 1\n",
    "        if n % 1000 == 0 :\n",
    "            print(n)\n",
    "        n +=1\n",
    "    \n",
    "sorted_hist = sorted(YearHist.items(), key = operator.itemgetter(1), reverse = True)\n",
    "\n",
    "print(n)\n",
    "print(sorted_hist)\n",
    "    \n",
    "print(JurisCount)"
   ]
  },
  {
   "cell_type": "code",
   "execution_count": 26,
   "id": "empirical-potato",
   "metadata": {},
   "outputs": [
    {
     "name": "stdout",
     "output_type": "stream",
     "text": [
      "1\n",
      "[('Montgomery County Sales and Use Tax', '33244786')]\n",
      "1\n"
     ]
    }
   ],
   "source": [
    "import csv, operator\n",
    "\n",
    "fn = \"State_and_Local_Sales_Tax_Distributions___Beginning__Fiscal_Years_Ended_March_31__1995.csv\"\n",
    "f = open(fn, 'r')\n",
    "\n",
    "JurisCount = 0\n",
    "reader = csv.reader(f)\n",
    "DistributeHist = {}\n",
    "n = 0\n",
    "\n",
    "for row in reader:\n",
    "    j = row[1]\n",
    "    y = row[0]\n",
    "    d = row[2]\n",
    "    if y == '2020' and j.startswith('Montgomery'):\n",
    "        ## count items in JurisCount\n",
    "        JurisCount += 1\n",
    "        ## Add year to YearHist and count\n",
    "        ##if j in DistributeHist.keys() :\n",
    "            ## DistributeHist[j] += 1\n",
    "        ##else:\n",
    "            ## DistributeHist[j] = 1\n",
    "            ##DistributeHist[j] = d\n",
    "        DistributeHist[j] = d\n",
    "        ##print(j, y, d)\n",
    "        '''if n % 100 == 0 :\n",
    "            print(n)'''\n",
    "        n +=1\n",
    "    \n",
    "sorted_hist = sorted(DistributeHist.items(), key = operator.itemgetter(1), reverse = True)\n",
    "\n",
    "print(n)\n",
    "print(sorted_hist)\n",
    "    \n",
    "print(JurisCount)"
   ]
  },
  {
   "cell_type": "code",
   "execution_count": null,
   "id": "raising-arkansas",
   "metadata": {},
   "outputs": [],
   "source": []
  }
 ],
 "metadata": {
  "kernelspec": {
   "display_name": "Python 3",
   "language": "python",
   "name": "python3"
  },
  "language_info": {
   "codemirror_mode": {
    "name": "ipython",
    "version": 3
   },
   "file_extension": ".py",
   "mimetype": "text/x-python",
   "name": "python",
   "nbconvert_exporter": "python",
   "pygments_lexer": "ipython3",
   "version": "3.8.7"
  }
 },
 "nbformat": 4,
 "nbformat_minor": 5
}
