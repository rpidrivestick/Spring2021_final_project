{
 "cells": [
  {
   "cell_type": "code",
   "execution_count": 1,
   "id": "ahead-title",
   "metadata": {},
   "outputs": [],
   "source": [
    "'''Taxable sales and purchases - basis of remittances'''\n",
    "\n",
    "f = open(\"Taxable_Sales_And_Purchases_Quarterly_Data__Beginning_Sales_Tax_Year_2013-2014.csv\",\"r\")\n",
    "s = f.read()\n",
    "f.close()\n",
    "lines = s.split(\"\\n\")"
   ]
  },
  {
   "cell_type": "code",
   "execution_count": 18,
   "id": "egyptian-journey",
   "metadata": {},
   "outputs": [
    {
     "name": "stdout",
     "output_type": "stream",
     "text": [
      "567361\n"
     ]
    }
   ],
   "source": [
    "import csv, operator\n",
    "\n",
    "fn = \"Taxable_Sales_And_Purchases_Quarterly_Data__Beginning_Sales_Tax_Year_2013-2014.csv\"\n",
    "f = open(fn, 'r')\n",
    "## counts rows in file\n",
    "n = 0\n",
    "for line in f :\n",
    "    n += 1\n",
    "print(n)"
   ]
  },
  {
   "cell_type": "markdown",
   "id": "deluxe-species",
   "metadata": {},
   "source": [
    "import csv, operator\n",
    "\n",
    "fn = \"Taxable_Sales_And_Purchases_Quarterly_Data__Beginning_Sales_Tax_Year_2013-2014.csv\"\n",
    "f = open(fn, 'r')\n",
    "## uses csv Dictreader\n",
    "reader = csv.DictReader(f, skipinitialspace = True)\n",
    "n = 0\n",
    "for row in reader:\n",
    "    ## stops after header row\n",
    "    if n > 0 :\n",
    "        break\n",
    "    ## prints column headings on new row, with | at end, for copying to markdown file\n",
    "    print(*row, sep = '\\n')\n",
    "    n += 1\n"
   ]
  },
  {
   "cell_type": "code",
   "execution_count": 9,
   "id": "exotic-longer",
   "metadata": {},
   "outputs": [
    {
     "name": "stdout",
     "output_type": "stream",
     "text": [
      "0\n",
      "100000\n",
      "200000\n",
      "300000\n",
      "400000\n",
      "500000\n",
      "567361\n",
      "[('NY STATE', 9456), ('MCTD', 9456), ('ALBANY', 9456), ('ALLEGANY', 9456), ('BROOME', 9456), ('CATTARAUGUS', 9456), ('CAYUGA', 9456), ('CHAUTAUQUA', 9456), ('CHEMUNG', 9456), ('CHENANGO', 9456), ('CLINTON', 9456), ('COLUMBIA', 9456), ('CORTLAND', 9456), ('DELAWARE', 9456), ('DUTCHESS', 9456), ('ERIE', 9456), ('ESSEX', 9456), ('FRANKLIN', 9456), ('FULTON', 9456), ('GENESEE', 9456), ('GREENE', 9456), ('HAMILTON', 9456), ('HERKIMER', 9456), ('JEFFERSON', 9456), ('LEWIS', 9456), ('LIVINGSTON', 9456), ('MADISON', 9456), ('MONROE', 9456), ('MONTGOMERY', 9456), ('NASSAU', 9456), ('NIAGARA', 9456), ('NY CITY', 9456), ('ONEIDA', 9456), ('ONONDAGA', 9456), ('ONTARIO', 9456), ('ORANGE', 9456), ('ORLEANS', 9456), ('OSWEGO', 9456), ('OTSEGO', 9456), ('PUTNAM', 9456), ('RENSSELAER', 9456), ('ROCKLAND', 9456), ('SARATOGA', 9456), ('SCHENECTADY', 9456), ('SCHOHARIE', 9456), ('SCHUYLER', 9456), ('SENECA', 9456), ('ST LAWRENCE', 9456), ('STEUBEN', 9456), ('SUFFOLK', 9456), ('SULLIVAN', 9456), ('TIOGA', 9456), ('TOMPKINS', 9456), ('ULSTER', 9456), ('WARREN', 9456), ('WASHINGTON', 9456), ('WAYNE', 9456), ('WESTCHESTER', 9456), ('WYOMING', 9456), ('YATES', 9456), ('Jurisdiction', 1)]\n"
     ]
    }
   ],
   "source": [
    "import csv, operator\n",
    "\n",
    "fn = \"Taxable_Sales_And_Purchases_Quarterly_Data__Beginning_Sales_Tax_Year_2013-2014.csv\"\n",
    "f = open(fn, 'r')\n",
    "Juris = {}\n",
    "reader = csv.reader(f)\n",
    "n = 0\n",
    "\n",
    "for row in reader:\n",
    "    k = row[4]\n",
    "    if k in Juris.keys() :\n",
    "        Juris[k] += 1\n",
    "    else:\n",
    "        Juris[k] = 1\n",
    "    if n % 100000 == 0 :\n",
    "        print(n)\n",
    "    n +=1\n",
    "    \n",
    "sorted_hist = sorted(Juris.items(), key = operator.itemgetter(1), reverse = True)\n",
    "\n",
    "print(n)\n",
    "print(sorted_hist)\n",
    "        "
   ]
  },
  {
   "cell_type": "code",
   "execution_count": 24,
   "id": "varying-depth",
   "metadata": {},
   "outputs": [
    {
     "name": "stdout",
     "output_type": "stream",
     "text": [
      "0\n",
      "9456\n",
      "[('2019 - 2020', 1248), ('2018 - 2019', 1248), ('2017 - 2018', 1248), ('2016 - 2017', 1248), ('2015 - 2016', 1176), ('2014 - 2015', 1176), ('2013 - 2014', 1176), ('2020 - 2021', 936)]\n",
      "9456\n"
     ]
    }
   ],
   "source": [
    "import csv, operator\n",
    "\n",
    "fn = \"Taxable_Sales_And_Purchases_Quarterly_Data__Beginning_Sales_Tax_Year_2013-2014.csv\"\n",
    "f = open(fn, 'r')\n",
    "\n",
    "JurisCount = 0\n",
    "reader = csv.reader(f)\n",
    "YearHist = {}\n",
    "n = 0\n",
    "\n",
    "for row in reader:\n",
    "    j = row[4]\n",
    "    y = row[1]\n",
    "    if j == 'MONTGOMERY' :\n",
    "        JurisCount += 1\n",
    "        if y in YearHist.keys() :\n",
    "            YearHist[y] += 1\n",
    "        else:\n",
    "            YearHist[y] = 1\n",
    "        if n % 10000 == 0 :\n",
    "            print(n)\n",
    "        n +=1\n",
    "    \n",
    "sorted_hist = sorted(YearHist.items(), key = operator.itemgetter(1), reverse = True)\n",
    "\n",
    "print(n)\n",
    "print(sorted_hist)\n",
    "    \n",
    "print(JurisCount)"
   ]
  },
  {
   "cell_type": "code",
   "execution_count": 27,
   "id": "hungarian-walnut",
   "metadata": {},
   "outputs": [
    {
     "name": "stdout",
     "output_type": "stream",
     "text": [
      "0\n",
      "1248\n",
      "[('1', '97631'), ('4', '455600'), ('3', '171470'), ('2', '136482')]\n"
     ]
    }
   ],
   "source": [
    "import csv, operator\n",
    "\n",
    "fn = \"Taxable_Sales_And_Purchases_Quarterly_Data__Beginning_Sales_Tax_Year_2013-2014.csv\"\n",
    "f = open(fn, 'r')\n",
    "\n",
    "JurisCount = 0\n",
    "reader = csv.reader(f)\n",
    "QtrHist = {}\n",
    "n = 0\n",
    "\n",
    "for row in reader:\n",
    "    j = row[4]\n",
    "    y = row[1]\n",
    "    q = row[3]\n",
    "    r = row[7]\n",
    "    if j == 'MONTGOMERY' and y == '2019 - 2020' :\n",
    "        if q in QtrHist.keys() :\n",
    "            #QtrHist[q] += 1\n",
    "            QtrHist[q] = r\n",
    "        else:\n",
    "            #QtrHist[q] = 1\n",
    "            QtrHist[q] = r\n",
    "        if n % 100000 == 0 :\n",
    "            print(n)\n",
    "        n +=1\n",
    "    \n",
    "sorted_hist = sorted(QtrHist.items(), key = operator.itemgetter(1), reverse = True)\n",
    "\n",
    "print(n)\n",
    "print(sorted_hist)"
   ]
  },
  {
   "cell_type": "code",
   "execution_count": 12,
   "id": "relevant-wiring",
   "metadata": {},
   "outputs": [
    {
     "name": "stdout",
     "output_type": "stream",
     "text": [
      "0\n",
      "62900\n",
      "NY STATE            371,710,781,733\n",
      "MCTD                274,904,994,264\n",
      "ALBANY              7,151,232,372\n",
      "ALLEGANY            506,551,674\n",
      "BROOME              3,568,651,038\n",
      "CATTARAUGUS         1,158,160,922\n",
      "CAYUGA              1,204,441,572\n",
      "CHAUTAUQUA          1,803,369,681\n",
      "CHEMUNG             1,591,317,980\n",
      "CHENANGO            669,225,121\n",
      "CLINTON             1,500,874,545\n",
      "COLUMBIA            1,132,542,017\n",
      "CORTLAND            789,812,441\n",
      "DELAWARE            595,578,611\n",
      "DUTCHESS            5,572,499,809\n",
      "ERIE                17,726,574,653\n",
      "ESSEX               808,794,727\n",
      "FRANKLIN            659,641,880\n",
      "FULTON              770,222,658\n",
      "GENESEE             1,081,350,661\n",
      "GREENE              879,086,590\n",
      "HAMILTON            109,948,456\n",
      "HERKIMER            810,479,133\n",
      "JEFFERSON           2,030,375,765\n",
      "LEWIS               329,571,552\n",
      "LIVINGSTON          899,990,527\n",
      "MADISON             894,749,876\n",
      "MONROE              13,349,750,016\n",
      "MONTGOMERY          840,838,675\n",
      "NASSAU              29,793,365,345\n",
      "NIAGARA             3,580,183,667\n",
      "NY CITY             182,016,447,224\n",
      "ONEIDA              3,603,680,871\n",
      "ONONDAGA            9,426,354,178\n",
      "ONTARIO             2,582,299,011\n",
      "ORANGE              8,090,706,655\n",
      "ORLEANS             451,505,170\n",
      "OSWEGO              1,223,193,225\n",
      "OTSEGO              1,027,289,153\n",
      "PUTNAM              1,665,520,536\n",
      "RENSSELAER          2,420,775,759\n",
      "ROCKLAND            5,783,335,918\n",
      "SARATOGA            4,845,642,289\n",
      "SCHENECTADY         2,620,713,145\n",
      "SCHOHARIE           413,933,394\n",
      "SCHUYLER            305,460,531\n",
      "SENECA              693,365,872\n",
      "ST LAWRENCE         1,574,595,468\n",
      "STEUBEN             1,511,041,790\n",
      "SUFFOLK             36,561,803,061\n",
      "SULLIVAN            1,221,025,398\n",
      "TIOGA               640,938,932\n",
      "TOMPKINS            1,725,006,765\n",
      "ULSTER              3,229,812,488\n",
      "WARREN              2,006,970,582\n",
      "WASHINGTON          733,882,771\n",
      "WAYNE               1,214,221,711\n",
      "WESTCHESTER         22,820,978,912\n",
      "WYOMING             491,848,551\n",
      "YATES               352,772,693\n"
     ]
    }
   ],
   "source": [
    "import csv, operator\n",
    "\n",
    "fn = \"Taxable_Sales_And_Purchases_Quarterly_Data__Beginning_Sales_Tax_Year_2013-2014.csv\"\n",
    "f = open(fn, 'r')\n",
    "\n",
    "JurisCount = 0\n",
    "reader = csv.reader(f)\n",
    "TotalHist = {}\n",
    "n = 0\n",
    "\n",
    "for row in reader:\n",
    "    j = row[4]\n",
    "    y = row[1]\n",
    "    q = row[3]\n",
    "    r = row[7]\n",
    "    if y == '2019 - 2020' and r != '':\n",
    "        if j in TotalHist.keys() :\n",
    "            #QtrHist[q] += 1\n",
    "            #print(TotalHist)\n",
    "            rev = int(TotalHist[j])\n",
    "            add = int(row[7])\n",
    "            TotalHist[j] = rev + add\n",
    "            #print(type(rev), type(add))\n",
    "            #print(int(rev) + int(add))\n",
    "            #print(rev, add, j, y, q, r)\n",
    "        else:\n",
    "            #QtrHist[q] = 1\n",
    "            TotalHist[j] = int(r)\n",
    "            #print(j, y, q, r)\n",
    "        if n % 100000 == 0 :\n",
    "            print(n)\n",
    "        n +=1\n",
    "        \n",
    "\n",
    "#sorted_hist = sorted(TotalHist.items(), key = operator.itemgetter(1), reverse = True)\n",
    "\n",
    "print(n)\n",
    "#print(sorted_hist)\n",
    "#print(TotalHist)\n",
    "for key, value in TotalHist.items():\n",
    "    print(f\"{key:20}{value:,}\")\n"
   ]
  },
  {
   "cell_type": "code",
   "execution_count": null,
   "id": "induced-floor",
   "metadata": {},
   "outputs": [],
   "source": []
  }
 ],
 "metadata": {
  "kernelspec": {
   "display_name": "Python 3",
   "language": "python",
   "name": "python3"
  },
  "language_info": {
   "codemirror_mode": {
    "name": "ipython",
    "version": 3
   },
   "file_extension": ".py",
   "mimetype": "text/x-python",
   "name": "python",
   "nbconvert_exporter": "python",
   "pygments_lexer": "ipython3",
   "version": "3.8.7"
  }
 },
 "nbformat": 4,
 "nbformat_minor": 5
}
