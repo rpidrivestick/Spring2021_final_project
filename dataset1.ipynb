{
 "cells": [
  {
   "cell_type": "code",
   "execution_count": 1,
   "id": "nutritional-comparative",
   "metadata": {},
   "outputs": [],
   "source": [
    "f = open(\"Taxable_Sales_And_Purchases_Quarterly_Data__Beginning_Sales_Tax_Year_2013-2014.csv\",\"r\")\n",
    "s = f.read()\n",
    "f.close()\n",
    "lines = s.split(\"\\n\")"
   ]
  },
  {
   "cell_type": "code",
   "execution_count": 18,
   "id": "suitable-expression",
   "metadata": {},
   "outputs": [
    {
     "name": "stdout",
     "output_type": "stream",
     "text": [
      "567361\n"
     ]
    }
   ],
   "source": [
    "import csv, operator\n",
    "\n",
    "fn = \"Taxable_Sales_And_Purchases_Quarterly_Data__Beginning_Sales_Tax_Year_2013-2014.csv\"\n",
    "f = open(fn, 'r')\n",
    "## counts rows in file\n",
    "n = 0\n",
    "for line in f :\n",
    "    n += 1\n",
    "print(n)"
   ]
  },
  {
   "cell_type": "code",
   "execution_count": 19,
   "id": "diagnostic-oklahoma",
   "metadata": {},
   "outputs": [
    {
     "name": "stdout",
     "output_type": "stream",
     "text": [
      "Status\n",
      "Sales Tax Year\n",
      "Selling Period\n",
      "Sales Tax Quarter\n",
      "Jurisdiction\n",
      "NAICS Industry Group\n",
      "Description\n",
      "Taxable Sales and Purchases\n",
      "Jurisdiction Sort Order\n",
      "Row Update Indicator\n"
     ]
    }
   ],
   "source": [
    "import csv, operator\n",
    "\n",
    "fn = \"Taxable_Sales_And_Purchases_Quarterly_Data__Beginning_Sales_Tax_Year_2013-2014.csv\"\n",
    "f = open(fn, 'r')\n",
    "## uses csv Dictreader\n",
    "reader = csv.DictReader(f, skipinitialspace = True)\n",
    "n = 0\n",
    "for row in reader:\n",
    "    ## stops after header row\n",
    "    if n > 0 :\n",
    "        break\n",
    "    ## prints column headings on new row, with | at end, for copying to markdown file\n",
    "    print(*row, sep = '\\n')\n",
    "    n += 1\n"
   ]
  },
  {
   "cell_type": "code",
   "execution_count": 9,
   "id": "august-dallas",
   "metadata": {},
   "outputs": [
    {
     "name": "stdout",
     "output_type": "stream",
     "text": [
      "0\n",
      "100000\n",
      "200000\n",
      "300000\n",
      "400000\n",
      "500000\n",
      "567361\n",
      "[('NY STATE', 9456), ('MCTD', 9456), ('ALBANY', 9456), ('ALLEGANY', 9456), ('BROOME', 9456), ('CATTARAUGUS', 9456), ('CAYUGA', 9456), ('CHAUTAUQUA', 9456), ('CHEMUNG', 9456), ('CHENANGO', 9456), ('CLINTON', 9456), ('COLUMBIA', 9456), ('CORTLAND', 9456), ('DELAWARE', 9456), ('DUTCHESS', 9456), ('ERIE', 9456), ('ESSEX', 9456), ('FRANKLIN', 9456), ('FULTON', 9456), ('GENESEE', 9456), ('GREENE', 9456), ('HAMILTON', 9456), ('HERKIMER', 9456), ('JEFFERSON', 9456), ('LEWIS', 9456), ('LIVINGSTON', 9456), ('MADISON', 9456), ('MONROE', 9456), ('MONTGOMERY', 9456), ('NASSAU', 9456), ('NIAGARA', 9456), ('NY CITY', 9456), ('ONEIDA', 9456), ('ONONDAGA', 9456), ('ONTARIO', 9456), ('ORANGE', 9456), ('ORLEANS', 9456), ('OSWEGO', 9456), ('OTSEGO', 9456), ('PUTNAM', 9456), ('RENSSELAER', 9456), ('ROCKLAND', 9456), ('SARATOGA', 9456), ('SCHENECTADY', 9456), ('SCHOHARIE', 9456), ('SCHUYLER', 9456), ('SENECA', 9456), ('ST LAWRENCE', 9456), ('STEUBEN', 9456), ('SUFFOLK', 9456), ('SULLIVAN', 9456), ('TIOGA', 9456), ('TOMPKINS', 9456), ('ULSTER', 9456), ('WARREN', 9456), ('WASHINGTON', 9456), ('WAYNE', 9456), ('WESTCHESTER', 9456), ('WYOMING', 9456), ('YATES', 9456), ('Jurisdiction', 1)]\n"
     ]
    }
   ],
   "source": [
    "import csv, operator\n",
    "\n",
    "fn = \"Taxable_Sales_And_Purchases_Quarterly_Data__Beginning_Sales_Tax_Year_2013-2014.csv\"\n",
    "f = open(fn, 'r')\n",
    "Juris = {}\n",
    "reader = csv.reader(f)\n",
    "n = 0\n",
    "\n",
    "for row in reader:\n",
    "    k = row[4]\n",
    "    if k in Juris.keys() :\n",
    "        Juris[k] += 1\n",
    "    else:\n",
    "        Juris[k] = 1\n",
    "    if n % 100000 == 0 :\n",
    "        print(n)\n",
    "    n +=1\n",
    "    \n",
    "sorted_hist = sorted(Juris.items(), key = operator.itemgetter(1), reverse = True)\n",
    "\n",
    "print(n)\n",
    "print(sorted_hist)\n",
    "        "
   ]
  },
  {
   "cell_type": "code",
   "execution_count": 24,
   "id": "recognized-teens",
   "metadata": {},
   "outputs": [
    {
     "name": "stdout",
     "output_type": "stream",
     "text": [
      "0\n",
      "9456\n",
      "[('2019 - 2020', 1248), ('2018 - 2019', 1248), ('2017 - 2018', 1248), ('2016 - 2017', 1248), ('2015 - 2016', 1176), ('2014 - 2015', 1176), ('2013 - 2014', 1176), ('2020 - 2021', 936)]\n",
      "9456\n"
     ]
    }
   ],
   "source": [
    "import csv, operator\n",
    "\n",
    "fn = \"Taxable_Sales_And_Purchases_Quarterly_Data__Beginning_Sales_Tax_Year_2013-2014.csv\"\n",
    "f = open(fn, 'r')\n",
    "\n",
    "JurisCount = 0\n",
    "reader = csv.reader(f)\n",
    "YearHist = {}\n",
    "n = 0\n",
    "\n",
    "for row in reader:\n",
    "    j = row[4]\n",
    "    y = row[1]\n",
    "    if j == 'MONTGOMERY' :\n",
    "        JurisCount += 1\n",
    "        if y in YearHist.keys() :\n",
    "            YearHist[y] += 1\n",
    "        else:\n",
    "            YearHist[y] = 1\n",
    "        if n % 10000 == 0 :\n",
    "            print(n)\n",
    "        n +=1\n",
    "    \n",
    "sorted_hist = sorted(YearHist.items(), key = operator.itemgetter(1), reverse = True)\n",
    "\n",
    "print(n)\n",
    "print(sorted_hist)\n",
    "    \n",
    "print(JurisCount)"
   ]
  },
  {
   "cell_type": "code",
   "execution_count": 27,
   "id": "suitable-mills",
   "metadata": {},
   "outputs": [
    {
     "name": "stdout",
     "output_type": "stream",
     "text": [
      "0\n",
      "1248\n",
      "[('1', '97631'), ('4', '455600'), ('3', '171470'), ('2', '136482')]\n"
     ]
    }
   ],
   "source": [
    "import csv, operator\n",
    "\n",
    "fn = \"Taxable_Sales_And_Purchases_Quarterly_Data__Beginning_Sales_Tax_Year_2013-2014.csv\"\n",
    "f = open(fn, 'r')\n",
    "\n",
    "JurisCount = 0\n",
    "reader = csv.reader(f)\n",
    "QtrHist = {}\n",
    "n = 0\n",
    "\n",
    "for row in reader:\n",
    "    j = row[4]\n",
    "    y = row[1]\n",
    "    q = row[3]\n",
    "    r = row[7]\n",
    "    if j == 'MONTGOMERY' and y == '2019 - 2020' :\n",
    "        if q in QtrHist.keys() :\n",
    "            #QtrHist[q] += 1\n",
    "            QtrHist[q] = r\n",
    "        else:\n",
    "            #QtrHist[q] = 1\n",
    "            QtrHist[q] = r\n",
    "        if n % 100000 == 0 :\n",
    "            print(n)\n",
    "        n +=1\n",
    "    \n",
    "sorted_hist = sorted(QtrHist.items(), key = operator.itemgetter(1), reverse = True)\n",
    "\n",
    "print(n)\n",
    "print(sorted_hist)"
   ]
  },
  {
   "cell_type": "code",
   "execution_count": 86,
   "id": "early-alexandria",
   "metadata": {},
   "outputs": [
    {
     "name": "stdout",
     "output_type": "stream",
     "text": [
      "0\n",
      "62900\n",
      "[('NY STATE', 371710781733), ('MCTD', 274904994264), ('NY CITY', 182016447224), ('SUFFOLK', 36561803061), ('NASSAU', 29793365345), ('WESTCHESTER', 22820978912), ('ERIE', 17726574653), ('MONROE', 13349750016), ('ONONDAGA', 9426354178), ('ORANGE', 8090706655), ('ALBANY', 7151232372), ('ROCKLAND', 5783335918), ('DUTCHESS', 5572499809), ('SARATOGA', 4845642289), ('ONEIDA', 3603680871), ('NIAGARA', 3580183667), ('BROOME', 3568651038), ('ULSTER', 3229812488), ('SCHENECTADY', 2620713145), ('ONTARIO', 2582299011), ('RENSSELAER', 2420775759), ('JEFFERSON', 2030375765), ('WARREN', 2006970582), ('CHAUTAUQUA', 1803369681), ('TOMPKINS', 1725006765), ('PUTNAM', 1665520536), ('CHEMUNG', 1591317980), ('ST LAWRENCE', 1574595468), ('STEUBEN', 1511041790), ('CLINTON', 1500874545), ('OSWEGO', 1223193225), ('SULLIVAN', 1221025398), ('WAYNE', 1214221711), ('CAYUGA', 1204441572), ('CATTARAUGUS', 1158160922), ('COLUMBIA', 1132542017), ('GENESEE', 1081350661), ('OTSEGO', 1027289153), ('LIVINGSTON', 899990527), ('MADISON', 894749876), ('GREENE', 879086590), ('MONTGOMERY', 840838675), ('HERKIMER', 810479133), ('ESSEX', 808794727), ('CORTLAND', 789812441), ('FULTON', 770222658), ('WASHINGTON', 733882771), ('SENECA', 693365872), ('CHENANGO', 669225121), ('FRANKLIN', 659641880), ('TIOGA', 640938932), ('DELAWARE', 595578611), ('ALLEGANY', 506551674), ('WYOMING', 491848551), ('ORLEANS', 451505170), ('SCHOHARIE', 413933394), ('YATES', 352772693), ('LEWIS', 329571552), ('SCHUYLER', 305460531), ('HAMILTON', 109948456)]\n"
     ]
    }
   ],
   "source": [
    "import csv, operator\n",
    "\n",
    "fn = \"Taxable_Sales_And_Purchases_Quarterly_Data__Beginning_Sales_Tax_Year_2013-2014.csv\"\n",
    "f = open(fn, 'r')\n",
    "\n",
    "JurisCount = 0\n",
    "reader = csv.reader(f)\n",
    "TotalHist = {}\n",
    "n = 0\n",
    "\n",
    "for row in reader:\n",
    "    j = row[4]\n",
    "    y = row[1]\n",
    "    q = row[3]\n",
    "    r = row[7]\n",
    "    if y == '2019 - 2020' and r != '':\n",
    "        if j in TotalHist.keys() :\n",
    "            #QtrHist[q] += 1\n",
    "            #print(TotalHist)\n",
    "            rev = int(TotalHist[j])\n",
    "            add = int(row[7])\n",
    "            TotalHist[j] = rev + add\n",
    "            #print(type(rev), type(add))\n",
    "            #print(int(rev) + int(add))\n",
    "            #print(rev, add, j, y, q, r)\n",
    "        else:\n",
    "            #QtrHist[q] = 1\n",
    "            TotalHist[j] = int(r)\n",
    "            #print(j, y, q, r)\n",
    "        if n % 100000 == 0 :\n",
    "            print(n)\n",
    "        n +=1\n",
    "        \n",
    "\n",
    "sorted_hist = sorted(TotalHist.items(), key = operator.itemgetter(1), reverse = True)\n",
    "\n",
    "print(n)\n",
    "print(sorted_hist)"
   ]
  },
  {
   "cell_type": "code",
   "execution_count": null,
   "id": "broken-entrepreneur",
   "metadata": {},
   "outputs": [],
   "source": []
  }
 ],
 "metadata": {
  "kernelspec": {
   "display_name": "Python 3",
   "language": "python",
   "name": "python3"
  },
  "language_info": {
   "codemirror_mode": {
    "name": "ipython",
    "version": 3
   },
   "file_extension": ".py",
   "mimetype": "text/x-python",
   "name": "python",
   "nbconvert_exporter": "python",
   "pygments_lexer": "ipython3",
   "version": "3.8.7"
  }
 },
 "nbformat": 4,
 "nbformat_minor": 5
}
