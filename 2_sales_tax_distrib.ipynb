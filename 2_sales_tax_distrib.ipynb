{
 "cells": [
  {
   "cell_type": "code",
   "execution_count": 3,
   "id": "preceding-render",
   "metadata": {},
   "outputs": [],
   "source": [
    "'''Sales tax distributions'''\n",
    "\n",
    "f = open(\"State_and_Local_Sales_Tax_Distributions___Beginning__Fiscal_Years_Ended_March_31__1995.csv\",\"r\")\n",
    "s = f.read()\n",
    "f.close()\n",
    "lines = s.split(\"\\n\")"
   ]
  },
  {
   "cell_type": "code",
   "execution_count": 7,
   "id": "closing-infrared",
   "metadata": {},
   "outputs": [
    {
     "name": "stdout",
     "output_type": "stream",
     "text": [
      "3260\n"
     ]
    }
   ],
   "source": [
    "import csv, operator\n",
    "\n",
    "fn = \"State_and_Local_Sales_Tax_Distributions___Beginning__Fiscal_Years_Ended_March_31__1995.csv\"\n",
    "f = open(fn, 'r')\n",
    "## counts rows in file\n",
    "n = 0\n",
    "for line in f :\n",
    "    n += 1\n",
    "print(n)"
   ]
  },
  {
   "cell_type": "code",
   "execution_count": 9,
   "id": "neutral-genesis",
   "metadata": {},
   "outputs": [
    {
     "name": "stdout",
     "output_type": "stream",
     "text": [
      "Fiscal Year Ended\n",
      "Taxing Jurisdiction\n",
      "Amount Distributed\n",
      "Jurisdiction Sort Order\n"
     ]
    }
   ],
   "source": [
    "import csv, operator\n",
    "\n",
    "fn = \"State_and_Local_Sales_Tax_Distributions___Beginning__Fiscal_Years_Ended_March_31__1995.csv\"\n",
    "f = open(fn, 'r')\n",
    "## uses csv Dictreader\n",
    "reader = csv.DictReader(f, skipinitialspace = True)\n",
    "n = 0\n",
    "for row in reader:\n",
    "    ## stops after header row\n",
    "    if n > 0 :\n",
    "        break\n",
    "    ## prints column headings on new row, with | at end, for copying to markdown file\n",
    "    print(*row, sep = '\\n')\n",
    "    n += 1"
   ]
  },
  {
   "cell_type": "code",
   "execution_count": 10,
   "id": "geological-zoning",
   "metadata": {},
   "outputs": [
    {
     "name": "stdout",
     "output_type": "stream",
     "text": [
      "0\n",
      "3260\n",
      "[('New York State Sales and Use Tax', 26), ('New York City Sales and Use Tax', 26), ('Metropolitan Commuter Transportation District Sales and Use Tax', 26), ('Albany County Sales and Use Tax', 26), ('Allegany County Sales and Use Tax', 26), ('Broome County Sales and Use Tax', 26), ('Cattaraugus County Sales and Use Tax', 26), ('Cayuga County Sales and Use Tax', 26), ('Chautauqua County Sales and Use Tax', 26), ('Chemung County Sales and Use Tax', 26), ('Chenango County Sales and Use Tax', 26), ('Clinton County Sales and Use Tax', 26), ('Columbia County Sales and Use Tax', 26), ('Cortland County Sales and Use Tax', 26), ('Delaware County Sales and Use Tax', 26), ('Dutchess County Sales and Use Tax', 26), ('Erie County Sales and Use Tax', 26), ('Essex County Sales and Use Tax', 26), ('Franklin County Sales and Use Tax', 26), ('Fulton County Sales and Use Tax', 26), ('Genesee County Sales and Use Tax', 26), ('Greene County Sales and Use Tax', 26), ('Hamilton County Sales and Use Tax', 26), ('Herkimer County Sales and Use Tax', 26), ('Jefferson County Sales and Use Tax', 26), ('Lewis County Sales and Use Tax', 26), ('Livingston County Sales and Use Tax', 26), ('Madison County Sales and Use Tax', 26), ('Monroe County Sales and Use Tax', 26), ('Montgomery County Sales and Use Tax', 26), ('Nassau County Sales and Use Tax', 26), ('Niagara County Sales and Use Tax', 26), ('Oneida County Sales and Use Tax', 26), ('Onondaga County Sales and Use Tax', 26), ('Ontario County Sales and Use Tax', 26), ('Orange County Sales and Use Tax', 26), ('Orleans County Sales and Use Tax', 26), ('Oswego County Sales and Use Tax', 26), ('Otsego County Sales and Use Tax', 26), ('Putnam County Sales and Use Tax', 26), ('Rensselaer County Sales and Use Tax', 26), ('Rockland County Sales and Use Tax', 26), ('St. Lawrence County Sales and Use Tax', 26), ('Saratoga County Sales and Use Tax', 26), ('Schenectady County Sales and Use Tax', 26), ('Schoharie County Sales and Use Tax', 26), ('Schuyler County Sales and Use Tax', 26), ('Seneca County Sales and Use Tax', 26), ('Steuben County Sales and Use Tax', 26), ('Suffolk County Sales and Use Tax', 26), ('Sullivan County Sales and Use Tax', 26), ('Tioga County Sales and Use Tax', 26), ('Tompkins County Sales and Use Tax', 26), ('Ulster County Sales and Use Tax', 26), ('Warren County Sales and Use Tax', 26), ('Washington County Sales and Use Tax', 26), ('Wayne County Sales and Use Tax', 26), ('Westchester County Sales and Use Tax', 26), ('Wyoming County Sales and Use Tax', 26), ('Yates County Sales and Use Tax', 26), ('City of Auburn Sales and Use Tax', 26), ('City of Canandaigua Sales and Use Tax', 26), ('City of Corning Sales and Use Tax', 26), ('City of Geneva Sales and Use Tax', 26), ('City of Glens Falls Sales and Use Tax', 26), ('City of Gloversville Sales and Use Tax', 26), ('City of Hornell Sales and Use Tax', 26), ('City of Ithaca Sales and Use Tax', 26), ('City of Johnstown Sales and Use Tax', 26), ('City of Mount Vernon Sales and Use Tax', 26), ('City of New Rochelle Sales and Use Tax', 26), ('City of Norwich Sales and Use Tax', 26), ('City of Olean Sales and Use Tax', 26), ('City of Oneida Sales and Use Tax', 26), ('City of Oswego Sales and Use Tax', 26), ('City of Rome Sales and Use Tax', 26), ('City of Salamanca Sales and Use Tax', 26), ('City of Saratoga Springs Sales and Use Tax', 26), ('City of Utica Sales and Use Tax', 26), ('City of White Plains Sales and Use Tax', 26), ('City of Yonkers Sales and Use Tax', 26), ('City of Yonkers Special Sales and Use Tax', 26), ('City of Newburgh Consumer Utilities', 26), ('City of Port Jervis Consumer Utilities', 26), ('Albany City School District Consumer Utilities', 26), ('Batavia City School District Consumer Utilities', 26), ('Cohoes City School District Consumer Utilities', 26), ('Glen Cove City School District Consumer Utilities', 26), ('Gloversville City School District Consumer Utilities', 26), ('Hornell City School District Consumer Utilities', 26), ('Hudson City School District Consumer Utilities', 26), ('Johnstown City School District Consumer Utilities', 26), ('Lackawanna City School District Consumer Utilities', 26), ('Long Beach City School District Consumer Utilities', 26), ('Middletown City School District Consumer Utilities', 26), ('Mt. Vernon City School District Consumer Utilities', 26), ('New Rochelle City School District Consumer Utilities', 26), ('Newburgh City School District Consumer Utilities', 26), ('Niagara Falls City School District Consumer Utilities', 26), ('Ogdensburg City School District Consumer Utilities', 26), ('Peekskill City School District Consumer Utilities', 26), ('Rensselaer City School District Consumer Utilities', 26), ('Schenectady City School District Consumer Utilities', 26), ('Troy City School District Consumer Utilities', 26), ('Utica City School District Consumer Utilities', 26), ('Watertown City School District Consumer Utilities', 26), ('Watervliet City School District Consumer Utilities', 26), ('White Plains City School District Consumer Utilities', 26), ('City of Lockport Admissions, Club Dues, Food, Drink, Amusements and Utilities Services', 26), ('City of Long Beach Hotel Occupancy and Restaurant Meals', 26), ('City of Niagara Falls Admissions, Club Dues, Food, Drink, Amusements, Hotel Occupancy, Utilities Services', 26), ('City of Batavia Sales and Use Tax', 25), ('City of Ogdensburg Sales and Use Tax', 25), ('City of Fulton Sales and Use Tax', 24), ('City of Sherrill Sales and Use Tax', 24), ('Metropolitan Transportation Authority Aid Trust Account Passenger Car Rental', 24), ('Municipal Assistance Corporation Sales and Use Tax', 23), ('City of Amsterdam Sales and Use Tax', 23), ('City of Cortland Sales and Use Tax', 23), ('City of Elmira Sales and Use Tax', 23), ('City of Glen Cove Sales and Use Tax', 23), ('City of Mechanicville Sales and Use Tax', 23), ('City of Plattsburgh Sales and Use Tax', 23), ('City of Schenectady Sales and Use Tax', 23), ('City of Troy Sales and Use Tax', 23), ('New York City Convention Center Development Corporation Hotel Occupancy', 19), ('Hudson Valley Greenway Hotel Occupancy', 7), ('City of North Tonawanda Food, Drink, and Utilities Services', 7), ('Rye City School District Consumer Utilities', 6), ('City of Oneonta Consumer Utilites', 4), ('Taxing Jurisdiction', 1), ('Pougkeepsie City School District Consumer Utilities', 1)]\n"
     ]
    }
   ],
   "source": [
    "import csv, operator\n",
    "\n",
    "fn = \"State_and_Local_Sales_Tax_Distributions___Beginning__Fiscal_Years_Ended_March_31__1995.csv\"\n",
    "f = open(fn, 'r')\n",
    "Juris = {}\n",
    "reader = csv.reader(f)\n",
    "n = 0\n",
    "\n",
    "for row in reader:\n",
    "    k = row[1]\n",
    "    if k in Juris.keys() :\n",
    "        Juris[k] += 1\n",
    "    else:\n",
    "        Juris[k] = 1\n",
    "    if n % 100000 == 0 :\n",
    "        print(n)\n",
    "    n +=1\n",
    "    \n",
    "sorted_hist = sorted(Juris.items(), key = operator.itemgetter(1), reverse = True)\n",
    "\n",
    "print(n)\n",
    "print(sorted_hist)\n",
    "        "
   ]
  },
  {
   "cell_type": "code",
   "execution_count": 16,
   "id": "right-packaging",
   "metadata": {},
   "outputs": [
    {
     "name": "stdout",
     "output_type": "stream",
     "text": [
      "0\n",
      "26\n",
      "[('2020', 1), ('2019', 1), ('2018', 1), ('2017', 1), ('2016', 1), ('2015', 1), ('2014', 1), ('2013', 1), ('2012', 1), ('2011', 1), ('2010', 1), ('2009', 1), ('2008', 1), ('2007', 1), ('2006', 1), ('2005', 1), ('2004', 1), ('2003', 1), ('2002', 1), ('2001', 1), ('2000', 1), ('1999', 1), ('1998', 1), ('1997', 1), ('1996', 1), ('1995', 1)]\n",
      "26\n"
     ]
    }
   ],
   "source": [
    "import csv, operator\n",
    "\n",
    "fn = \"State_and_Local_Sales_Tax_Distributions___Beginning__Fiscal_Years_Ended_March_31__1995.csv\"\n",
    "f = open(fn, 'r')\n",
    "\n",
    "JurisCount = 0\n",
    "reader = csv.reader(f)\n",
    "YearHist = {}\n",
    "n = 0\n",
    "\n",
    "for row in reader:\n",
    "    j = row[1]\n",
    "    y = row[0]\n",
    "    if j.startswith('Montgomery') :\n",
    "        ## count items in JurisCount\n",
    "        JurisCount += 1\n",
    "        ## Add year to YearHist and count\n",
    "        if y in YearHist.keys() :\n",
    "            YearHist[y] += 1\n",
    "        else:\n",
    "            YearHist[y] = 1\n",
    "        if n % 1000 == 0 :\n",
    "            print(n)\n",
    "        n +=1\n",
    "    \n",
    "sorted_hist = sorted(YearHist.items(), key = operator.itemgetter(1), reverse = True)\n",
    "\n",
    "print(n)\n",
    "print(sorted_hist)\n",
    "    \n",
    "print(JurisCount)"
   ]
  },
  {
   "cell_type": "code",
   "execution_count": 125,
   "id": "reflected-grant",
   "metadata": {},
   "outputs": [
    {
     "name": "stdout",
     "output_type": "stream",
     "text": [
      "Jursidiction Count:  60\n",
      "NY State                 15,073,717,366\n",
      "NY City                  8,396,612,037\n",
      "MCTD                     1,058,531,050\n",
      "Albany                   293,130,947\n",
      "Allegany                 22,564,636\n",
      "Broome                   143,445,520\n",
      "Cattaraugus              45,738,067\n",
      "Cayuga                   48,284,601\n",
      "Chautauqua               71,619,758\n",
      "Chemung                  63,223,017\n",
      "Chenango                 26,797,021\n",
      "Clinton                  60,479,199\n",
      "Columbia                 46,000,798\n",
      "Cortland                 31,451,008\n",
      "Delaware                 22,545,987\n",
      "Dutchess                 220,309,858\n",
      "Erie                     836,927,739\n",
      "Essex                    32,117,401\n",
      "Franklin                 25,340,804\n",
      "Fulton                   31,790,145\n",
      "Genesee                  43,450,199\n",
      "Greene                   35,065,007\n",
      "Hamilton                 4,356,230\n",
      "Herkimer                 34,382,256\n",
      "Jefferson                81,613,818\n",
      "Lewis                    13,129,528\n",
      "Livingston               35,850,617\n",
      "Madison                  35,742,237\n",
      "Monroe                   531,285,254\n",
      "Montgomery               33,244,786\n",
      "Nassau                   1,265,916,365\n",
      "Niagara                  143,525,748\n",
      "Oneida                   172,167,644\n",
      "Onondaga                 373,779,992\n",
      "Ontario                  89,815,323\n",
      "Orange                   309,256,736\n",
      "Orleans                  17,866,968\n",
      "Oswego                   62,810,768\n",
      "Otsego                   40,773,768\n",
      "Putnam                   67,269,965\n",
      "Rensselaer               97,266,203\n",
      "Rockland                 236,498,544\n",
      "St Lawrence              63,264,513\n",
      "Saratoga                 144,648,319\n",
      "Schenectady              107,594,283\n",
      "Schoharie                16,284,302\n",
      "Schuyler                 12,157,577\n",
      "Seneca                   28,086,159\n",
      "Steuben                  60,629,691\n",
      "Suffolk                  1,530,406,740\n",
      "Sullivan                 48,069,082\n",
      "Tioga                    25,219,749\n",
      "Tompkins                 69,994,102\n",
      "Ulster                   129,081,133\n",
      "Warren                   60,192,756\n",
      "Washington               21,949,732\n",
      "Wayne                    48,630,921\n",
      "Westchester              866,935,178\n",
      "Wyoming                  19,334,968\n",
      "Yates                    13,916,823\n"
     ]
    }
   ],
   "source": [
    "import csv, operator\n",
    "\n",
    "fn = \"State_and_Local_Sales_Tax_Distributions___Beginning__Fiscal_Years_Ended_March_31__1995.csv\"\n",
    "f = open(fn, 'r')\n",
    "fn2 = \"st_distributions_jur.csv\"\n",
    "f2 = open(fn2, 'r')\n",
    "\n",
    "JurisCount = 0\n",
    "reader = csv.reader(f)\n",
    "reader2 = csv.reader(f2)\n",
    "DistributeHist = {}\n",
    "# n is counting every row in reader\n",
    "n = 0\n",
    "# n2 is counting rows which are y = 2020 and d not null\n",
    "n2 = 0\n",
    "\n",
    "for row in reader :\n",
    "    j = row[1]\n",
    "    y = row[0]\n",
    "    d = row[2]\n",
    "    # need to reopen the file each time\n",
    "    reader2 = csv.reader(open(fn2,'r'))\n",
    "    if y == '2020' and d != '' :\n",
    "        #test with print\n",
    "        #print(n, j[0:15], y, d)\n",
    "        #jur = ''\n",
    "        #tax_jur = ''\n",
    "        for line in reader2 :\n",
    "            jur = line[0]\n",
    "            tax_jur = line[1]\n",
    "            if jur in j or j in jur :\n",
    "                #test with print\n",
    "                #print(jur, tax_jur)\n",
    "                j2 = tax_jur\n",
    "                if j2 in DistributeHist.keys() :\n",
    "                    dist = int(DistributeHist[j2])\n",
    "                    add_dist = int(d)\n",
    "                    DistributeHist[j2] = dist + add_dist\n",
    "                    #test with print\n",
    "                    #print(j[0:15], j2, y, d)\n",
    "                    break\n",
    "                else:\n",
    "                    DistributeHist[j2] = int(d)\n",
    "                    ## count items in JurisCount\n",
    "                    JurisCount += 1\n",
    "                    #test with print\n",
    "                    #print(j[0:15], j2, y, d)\n",
    "                    break\n",
    "#        if n % 10000 == 0 :\n",
    "#            break\n",
    "#            print(n)\n",
    "        #n2 += 1\n",
    "    n +=1\n",
    "    \n",
    "sorted_hist = sorted(DistributeHist.items(), key = operator.itemgetter(1), reverse = True)\n",
    "\n",
    "#print(n)\n",
    "#print(n2)\n",
    "print('Jursidiction Count: ', JurisCount)\n",
    "\n",
    "#print(sorted_hist)\n",
    "for key, value in DistributeHist.items():\n",
    "    print(f\"{key:25}{value:,}\")\n"
   ]
  },
  {
   "cell_type": "code",
   "execution_count": 124,
   "id": "employed-power",
   "metadata": {},
   "outputs": [
    {
     "name": "stdout",
     "output_type": "stream",
     "text": [
      "St Lawrence\n"
     ]
    }
   ],
   "source": [
    "import csv, operator\n",
    "\n",
    "fn = \"State_and_Local_Sales_Tax_Distributions___Beginning__Fiscal_Years_Ended_March_31__1995.csv\"\n",
    "f = open(fn, 'r')\n",
    "fn2 = \"st_distributions_jur.csv\"\n",
    "f2 = open(fn2, 'r')\n",
    "\n",
    "JurisCount = 0\n",
    "reader = csv.reader(f)\n",
    "reader2 = csv.reader(f2)\n",
    "DistributeHist = {}\n",
    "n = 0\n",
    "\n",
    "for row in reader2:\n",
    "    match = row[0]\n",
    "    tax_jur = row[1]\n",
    "    if 'St. Law' in match :\n",
    "        print(tax_jur)\n",
    "        #print(f\"{row[0]:107}{row[1]:}\")\n",
    "    "
   ]
  },
  {
   "cell_type": "code",
   "execution_count": 60,
   "id": "economic-doctor",
   "metadata": {},
   "outputs": [
    {
     "ename": "TypeError",
     "evalue": "'_csv.reader' object is not subscriptable",
     "output_type": "error",
     "traceback": [
      "\u001b[1;31m---------------------------------------------------------------------------\u001b[0m",
      "\u001b[1;31mTypeError\u001b[0m                                 Traceback (most recent call last)",
      "\u001b[1;32m<ipython-input-60-f1f4d6b90f08>\u001b[0m in \u001b[0;36m<module>\u001b[1;34m\u001b[0m\n\u001b[0;32m     23\u001b[0m     \u001b[0my\u001b[0m \u001b[1;33m=\u001b[0m \u001b[0mrow\u001b[0m\u001b[1;33m[\u001b[0m\u001b[1;36m0\u001b[0m\u001b[1;33m]\u001b[0m\u001b[1;33m\u001b[0m\u001b[1;33m\u001b[0m\u001b[0m\n\u001b[0;32m     24\u001b[0m     \u001b[0md\u001b[0m \u001b[1;33m=\u001b[0m \u001b[0mrow\u001b[0m\u001b[1;33m[\u001b[0m\u001b[1;36m2\u001b[0m\u001b[1;33m]\u001b[0m\u001b[1;33m\u001b[0m\u001b[1;33m\u001b[0m\u001b[0m\n\u001b[1;32m---> 25\u001b[1;33m     \u001b[1;32mif\u001b[0m \u001b[0my\u001b[0m \u001b[1;33m==\u001b[0m \u001b[1;34m'2020'\u001b[0m \u001b[1;32mand\u001b[0m \u001b[0mj\u001b[0m \u001b[1;32min\u001b[0m \u001b[0mreader2\u001b[0m\u001b[1;33m[\u001b[0m\u001b[1;36m0\u001b[0m\u001b[1;33m]\u001b[0m\u001b[1;33m:\u001b[0m\u001b[1;33m\u001b[0m\u001b[1;33m\u001b[0m\u001b[0m\n\u001b[0m\u001b[0;32m     26\u001b[0m         \u001b[0mprint\u001b[0m\u001b[1;33m(\u001b[0m\u001b[0mj\u001b[0m\u001b[1;33m,\u001b[0m \u001b[0my\u001b[0m\u001b[1;33m,\u001b[0m \u001b[0md\u001b[0m\u001b[1;33m)\u001b[0m\u001b[1;33m\u001b[0m\u001b[1;33m\u001b[0m\u001b[0m\n\u001b[0;32m     27\u001b[0m         \u001b[1;32mfor\u001b[0m \u001b[0mline\u001b[0m \u001b[1;32min\u001b[0m \u001b[0mreader2\u001b[0m \u001b[1;33m:\u001b[0m\u001b[1;33m\u001b[0m\u001b[1;33m\u001b[0m\u001b[0m\n",
      "\u001b[1;31mTypeError\u001b[0m: '_csv.reader' object is not subscriptable"
     ]
    }
   ],
   "source": []
  },
  {
   "cell_type": "code",
   "execution_count": null,
   "id": "excessive-democracy",
   "metadata": {},
   "outputs": [],
   "source": []
  }
 ],
 "metadata": {
  "kernelspec": {
   "display_name": "Python 3",
   "language": "python",
   "name": "python3"
  },
  "language_info": {
   "codemirror_mode": {
    "name": "ipython",
    "version": 3
   },
   "file_extension": ".py",
   "mimetype": "text/x-python",
   "name": "python",
   "nbconvert_exporter": "python",
   "pygments_lexer": "ipython3",
   "version": "3.8.7"
  }
 },
 "nbformat": 4,
 "nbformat_minor": 5
}
